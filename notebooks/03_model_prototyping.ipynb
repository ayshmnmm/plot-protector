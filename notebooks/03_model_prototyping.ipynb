{
 "cells": [
  {
   "cell_type": "markdown",
   "id": "b1eec43c",
   "metadata": {},
   "source": [
    "# Model Prototyping"
   ]
  },
  {
   "cell_type": "code",
   "execution_count": null,
   "id": "eb3d2366",
   "metadata": {},
   "outputs": [],
   "source": [
    "import numpy as np\n",
    "import pandas as pd\n",
    "from sklearn.model_selection import train_test_split\n",
    "from sklearn.feature_extraction.text import HashingVectorizer, TfidfVectorizer\n",
    "from sklearn.naive_bayes import MultinomialNB\n",
    "from sklearn.linear_model import LogisticRegression\n",
    "from sklearn.metrics import classification_report, confusion_matrix, precision_recall_fscore_support\n",
    "from scipy.sparse import hstack, csr_matrix\n",
    "from sklearn.metrics import precision_recall_fscore_support"
   ]
  },
  {
   "cell_type": "code",
   "execution_count": 3,
   "id": "a254230f",
   "metadata": {},
   "outputs": [],
   "source": [
    "df = pd.read_feather(\"../data/preprocessed_reviews.feather\")"
   ]
  },
  {
   "cell_type": "markdown",
   "id": "701bc1e7",
   "metadata": {},
   "source": [
    "## Adding Features\n",
    "- `word_count`\n",
    "- `has_spoiler_tag`"
   ]
  },
  {
   "cell_type": "code",
   "execution_count": 4,
   "id": "d365548d",
   "metadata": {},
   "outputs": [],
   "source": [
    "df[\"word_count\"] = df[\"review_text\"].apply(len)\n",
    "df[\"has_spoiler_tag\"] = df[\"review_text\"].apply(lambda x : \"spoiler\" in x)"
   ]
  },
  {
   "cell_type": "markdown",
   "id": "948d0d85",
   "metadata": {},
   "source": [
    "## Splitting the data for training and testing"
   ]
  },
  {
   "cell_type": "code",
   "execution_count": 5,
   "id": "5c5eafef",
   "metadata": {},
   "outputs": [],
   "source": [
    "X = df[[\"review_text\", \"word_count\", \"has_spoiler_tag\"]]\n",
    "y = df[\"is_spoiler\"]\n",
    "\n",
    "\n",
    "X_train, X_test, y_train, y_test = train_test_split(\n",
    "    X, y, test_size=0.2, random_state=42, stratify=y\n",
    ")\n",
    "\n",
    "X_train_text = X_train[\"review_text\"].astype(str)\n",
    "X_test_text = X_test[\"review_text\"].astype(str)\n",
    "y_test = y_test.astype(str)"
   ]
  },
  {
   "cell_type": "markdown",
   "id": "1b77571d",
   "metadata": {},
   "source": [
    "## Vectorizing the `review_text` column"
   ]
  },
  {
   "cell_type": "code",
   "execution_count": 50,
   "id": "006194dc",
   "metadata": {},
   "outputs": [],
   "source": [
    "# hash_vect = HashingVectorizer(n_features=50000, ngram_range=(1,2), alternate_sign=False)\n",
    "# X_train_hash = hash_vect.transform(X_train_text)\n",
    "# X_test_hash = hash_vect.transform(X_test_text)\n",
    "\n",
    "tfidf_full = TfidfVectorizer(\n",
    "    max_features=100000,\n",
    "    ngram_range=(1,2),\n",
    "    stop_words='english'\n",
    ")\n",
    "\n",
    "X_train_tfidf = tfidf_full.fit_transform(X_train_text)\n",
    "X_test_tfidf = tfidf_full.fit_transform(X_test_text)"
   ]
  },
  {
   "cell_type": "code",
   "execution_count": 51,
   "id": "2bff4e50",
   "metadata": {},
   "outputs": [],
   "source": [
    "keywords = [\"plot twist\", \"ending\", \"spoiler\", \"dies\", \"surprise\", \"reveal\", \"betrayal\", \"twist\", \"revealed\", \"kill\", \"death\", \"betrays\"]\n",
    "tfidf_kw = TfidfVectorizer(vocabulary=keywords)\n",
    "X_train_kw = tfidf_kw.fit_transform(X_train_text)\n",
    "X_test_kw = tfidf_kw.transform(X_test_text)"
   ]
  },
  {
   "cell_type": "markdown",
   "id": "143c2607",
   "metadata": {},
   "source": [
    "## Putting the everything together"
   ]
  },
  {
   "cell_type": "code",
   "execution_count": null,
   "id": "0f2f98d7",
   "metadata": {},
   "outputs": [],
   "source": [
    "X_train_numeric = X_train[[\"word_count\", \"has_spoiler_tag\"]].copy()\n",
    "\n",
    "X_train_numeric[\"has_spoiler_tag\"] = X_train_numeric[\"has_spoiler_tag\"].astype(int)\n",
    "\n",
    "X_test_numeric = X_test[[\"word_count\", \"has_spoiler_tag\"]].copy()\n",
    "X_test_numeric[\"has_spoiler_tag\"] = X_test_numeric[\"has_spoiler_tag\"].astype(int)\n",
    "\n",
    "X_train_combined = hstack([\n",
    "    # X_train_hash,\n",
    "    X_train_tfidf,\n",
    "    X_train_kw,\n",
    "    csr_matrix(X_train_numeric.values)\n",
    "])\n",
    "\n",
    "X_test_combined = hstack(threshold = 0.4[\n",
    "    # X_test_hash,\n",
    "    X_test_tfidf,\n",
    "    X_test_kw,\n",
    "    csr_matrix(X_test_numeric.values)\n",
    "])"
   ]
  },
  {
   "cell_type": "markdown",
   "id": "3d327879",
   "metadata": {},
   "source": [
    "# Training with Naive Bayes"
   ]
  },
  {
   "cell_type": "code",
   "execution_count": null,
   "id": "4dd15ad7",
   "metadata": {},
   "outputs": [],
   "source": [
    "nb = MultinomialNB()\n",
    "nb.fit(X_train_combined, y_train)\n",
    "nb_probs = nb.predict_proba(X_test_combined)[:, 1]"
   ]
  },
  {
   "cell_type": "code",
   "execution_count": 106,
   "id": "988e249c",
   "metadata": {},
   "outputs": [
    {
     "name": "stdout",
     "output_type": "stream",
     "text": [
      "              precision    recall  f1-score   support\n",
      "\n",
      "       False       0.83      0.63      0.72     84598\n",
      "        True       0.39      0.65      0.48     30185\n",
      "\n",
      "    accuracy                           0.64    114783\n",
      "   macro avg       0.61      0.64      0.60    114783\n",
      "weighted avg       0.72      0.64      0.66    114783\n",
      "\n",
      "[[53654 30944]\n",
      " [10622 19563]]\n"
     ]
    }
   ],
   "source": [
    "# for i in range(1, 11):\n",
    "#     threshold = 0.1 * i\n",
    "#     y_pred = np.where(probs > threshold, 'True', 'False')\n",
    "#     print(f\"Threhold: {threshold}\\n\\n\")\n",
    "#     print(classification_report(y_test, y_pred))\n",
    "#     print(confusion_matrix(y_test, y_pred))\n",
    "\n",
    "threshold = 0.36\n",
    "y_pred = np.where(probs > threshold, 'True', 'False')\n",
    "print(classification_report(y_test, y_pred))\n",
    "print(confusion_matrix(y_test, y_pred))"
   ]
  },
  {
   "cell_type": "code",
   "execution_count": null,
   "id": "798c8bf0",
   "metadata": {},
   "outputs": [
    {
     "name": "stdout",
     "output_type": "stream",
     "text": [
      "✅ Best Threshold: 0.52\n",
      "📊 Best F1-Score: 0.4875\n"
     ]
    },
    {
     "name": "stderr",
     "output_type": "stream",
     "text": [
      "/home/rickin/.conda/envs/pp/lib/python3.13/site-packages/sklearn/metrics/_classification.py:1731: UndefinedMetricWarning: Precision is ill-defined and being set to 0.0 due to no predicted samples. Use `zero_division` parameter to control this behavior.\n",
      "  _warn_prf(average, modifier, f\"{metric.capitalize()} is\", result.shape[0])\n",
      "/home/rickin/.conda/envs/pp/lib/python3.13/site-packages/sklearn/metrics/_classification.py:1731: UndefinedMetricWarning: Precision is ill-defined and being set to 0.0 due to no predicted samples. Use `zero_division` parameter to control this behavior.\n",
      "  _warn_prf(average, modifier, f\"{metric.capitalize()} is\", result.shape[0])\n",
      "/home/rickin/.conda/envs/pp/lib/python3.13/site-packages/sklearn/metrics/_classification.py:1731: UndefinedMetricWarning: Precision is ill-defined and being set to 0.0 due to no predicted samples. Use `zero_division` parameter to control this behavior.\n",
      "  _warn_prf(average, modifier, f\"{metric.capitalize()} is\", result.shape[0])\n"
     ]
    }
   ],
   "source": [
    "thresholds = np.arange(0.0, 1.01, 0.01)\n",
    "f1_scores = []\n",
    "\n",
    "for t in thresholds:\n",
    "    y_pred = (nb_probs >= t).astype(int)\n",
    "    _, _, f1, _ = precision_recall_fscore_support(y_test.map({'False':0,'True':1}), y_pred, average='binary')\n",
    "    f1_scores.append(f1)\n",
    "\n",
    "best_threshold = thresholds[np.argmax(f1_scores)]\n",
    "best_f1 = np.max(f1_scores)\n",
    "\n",
    "print(f\"Best Threshold: {best_threshold:.2f}\")\n",
    "print(f\"Best F1-Score: {best_f1:.4f}\")"
   ]
  },
  {
   "cell_type": "markdown",
   "id": "33c328e4",
   "metadata": {},
   "source": [
    "## Training with Logistic Regression"
   ]
  },
  {
   "cell_type": "code",
   "execution_count": null,
   "id": "f55f691d",
   "metadata": {},
   "outputs": [
    {
     "name": "stderr",
     "output_type": "stream",
     "text": [
      "/home/rickin/.conda/envs/pp/lib/python3.13/site-packages/sklearn/linear_model/_sag.py:348: ConvergenceWarning: The max_iter was reached which means the coef_ did not converge\n",
      "  warnings.warn(\n"
     ]
    }
   ],
   "source": [
    "lr = LogisticRegression(\n",
    "    max_iter=500,\n",
    "    class_weight='balanced',\n",
    "    solver='saga',\n",
    "    n_jobs=-1\n",
    ")\n",
    "lr.fit(X_train_combined, y_train)\n",
    "lr_probs = lr.predict_proba(X_test_combined)[:, 1]"
   ]
  },
  {
   "cell_type": "code",
   "execution_count": 107,
   "id": "643ad9bf",
   "metadata": {},
   "outputs": [
    {
     "name": "stdout",
     "output_type": "stream",
     "text": [
      "              precision    recall  f1-score   support\n",
      "\n",
      "       False       0.84      0.63      0.72     84598\n",
      "        True       0.39      0.66      0.49     30185\n",
      "\n",
      "    accuracy                           0.64    114783\n",
      "   macro avg       0.61      0.64      0.60    114783\n",
      "weighted avg       0.72      0.64      0.66    114783\n",
      "\n",
      "[[53391 31207]\n",
      " [10398 19787]]\n"
     ]
    }
   ],
   "source": [
    "threshold = 0.52\n",
    "y_pred = np.where(lr_probs > threshold, 'True', 'False')\n",
    "print(classification_report(y_test, y_pred))\n",
    "print(confusion_matrix(y_test, y_pred))"
   ]
  },
  {
   "cell_type": "code",
   "execution_count": null,
   "id": "26be6ea2",
   "metadata": {},
   "outputs": [
    {
     "name": "stdout",
     "output_type": "stream",
     "text": [
      "✅ Best Threshold: 0.52\n",
      "📊 Best F1-Score: 0.4875\n"
     ]
    },
    {
     "name": "stderr",
     "output_type": "stream",
     "text": [
      "/home/rickin/.conda/envs/pp/lib/python3.13/site-packages/sklearn/metrics/_classification.py:1731: UndefinedMetricWarning: Precision is ill-defined and being set to 0.0 due to no predicted samples. Use `zero_division` parameter to control this behavior.\n",
      "  _warn_prf(average, modifier, f\"{metric.capitalize()} is\", result.shape[0])\n",
      "/home/rickin/.conda/envs/pp/lib/python3.13/site-packages/sklearn/metrics/_classification.py:1731: UndefinedMetricWarning: Precision is ill-defined and being set to 0.0 due to no predicted samples. Use `zero_division` parameter to control this behavior.\n",
      "  _warn_prf(average, modifier, f\"{metric.capitalize()} is\", result.shape[0])\n",
      "/home/rickin/.conda/envs/pp/lib/python3.13/site-packages/sklearn/metrics/_classification.py:1731: UndefinedMetricWarning: Precision is ill-defined and being set to 0.0 due to no predicted samples. Use `zero_division` parameter to control this behavior.\n",
      "  _warn_prf(average, modifier, f\"{metric.capitalize()} is\", result.shape[0])\n"
     ]
    }
   ],
   "source": [
    "thresholds = np.arange(0.0, 1.01, 0.01)\n",
    "f1_scores = []\n",
    "\n",
    "for t in thresholds:\n",
    "    y_pred = (lr_probs >= t).astype(int)\n",
    "    _, _, f1, _ = precision_recall_fscore_support(y_test.map({'False':0,'True':1}), y_pred, average='binary')\n",
    "    f1_scores.append(f1)\n",
    "\n",
    "best_threshold = thresholds[np.argmax(f1_scores)]\n",
    "best_f1 = np.max(f1_scores)\n",
    "\n",
    "print(f\"Best Threshold: {best_threshold:.2f}\")\n",
    "print(f\"Best F1-Score: {best_f1:.4f}\")"
   ]
  }
 ],
 "metadata": {
  "kernelspec": {
   "display_name": "pp",
   "language": "python",
   "name": "python3"
  },
  "language_info": {
   "codemirror_mode": {
    "name": "ipython",
    "version": 3
   },
   "file_extension": ".py",
   "mimetype": "text/x-python",
   "name": "python",
   "nbconvert_exporter": "python",
   "pygments_lexer": "ipython3",
   "version": "3.13.7"
  }
 },
 "nbformat": 4,
 "nbformat_minor": 5
}
