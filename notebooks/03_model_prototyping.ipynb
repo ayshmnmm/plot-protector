{
 "cells": [
  {
   "cell_type": "markdown",
   "id": "e3b2fec0",
   "metadata": {},
   "source": [
    "# Model Prototyping\n"
   ]
  },
  {
   "cell_type": "code",
   "execution_count": null,
   "id": "99f896a0",
   "metadata": {
    "vscode": {
     "languageId": "plaintext"
    }
   },
   "outputs": [],
   "source": []
  }
 ],
 "metadata": {
  "language_info": {
   "name": "python"
  }
 },
 "nbformat": 4,
 "nbformat_minor": 5
}
