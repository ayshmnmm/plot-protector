{
 "cells": [
  {
   "cell_type": "markdown",
   "id": "b1eec43c",
   "metadata": {},
   "source": [
    "# Model Prototyping"
   ]
  },
  {
   "cell_type": "code",
   "execution_count": 1,
   "id": "eb3d2366",
   "metadata": {},
   "outputs": [],
   "source": [
    "# import nltk\n",
    "# nltk.download('punkt')\n",
    "# nltk.download('punkt_tab')\n",
    "import numpy as np\n",
    "import pandas as pd\n",
    "from sklearn.model_selection import train_test_split\n",
    "from sklearn.feature_extraction.text import HashingVectorizer, TfidfVectorizer\n",
    "from sklearn.naive_bayes import MultinomialNB\n",
    "from sklearn.linear_model import LogisticRegression\n",
    "from sklearn.metrics import classification_report, confusion_matrix, precision_recall_fscore_support\n",
    "from scipy.sparse import hstack, csr_matrix\n",
    "from sklearn.metrics import precision_recall_fscore_support\n",
    "from nltk.tokenize import sent_tokenize"
   ]
  },
  {
   "cell_type": "code",
   "execution_count": 2,
   "id": "a254230f",
   "metadata": {},
   "outputs": [],
   "source": [
    "df = pd.read_feather(\"../data/preprocessed_reviews.feather\")"
   ]
  },
  {
   "cell_type": "markdown",
   "id": "701bc1e7",
   "metadata": {},
   "source": [
    "## Adding Features\n",
    "- `word_count`\n",
    "- `has_spoiler_tag`\n",
    "- `sentence_count`"
   ]
  },
  {
   "cell_type": "code",
   "execution_count": 3,
   "id": "d365548d",
   "metadata": {},
   "outputs": [],
   "source": [
    "df[\"word_count\"] = df[\"review_text\"].apply(len)\n",
    "df[\"has_spoiler_tag\"] = df[\"review_text\"].apply(lambda x : \"spoiler\" in x)\n",
    "df[\"review_text_str\"] = df[\"review_text\"].astype(str)\n",
    "df[\"review_summary_str\"] = df[\"review_summary\"].astype(str)\n",
    "df[\"full_text\"] = df[\"review_summary_str\"] + \" \" + df[\"review_text_str\"]\n",
    "df[\"sentence_count\"] = df[\"review_text_str\"].apply(lambda x: len(sent_tokenize(x)))"
   ]
  },
  {
   "cell_type": "code",
   "execution_count": 4,
   "id": "1a6f8d27",
   "metadata": {},
   "outputs": [],
   "source": [
    "df[\"avg_sentence_length\"] = df[\"word_count\"] / (df[\"sentence_count\"] + 1e-6)"
   ]
  },
  {
   "cell_type": "markdown",
   "id": "948d0d85",
   "metadata": {},
   "source": [
    "## Splitting the data for training and testing"
   ]
  },
  {
   "cell_type": "code",
   "execution_count": 6,
   "id": "5c5eafef",
   "metadata": {},
   "outputs": [],
   "source": [
    "X = df[[\"full_text\", \"word_count\", \"has_spoiler_tag\", \"sentence_count\", \"avg_sentence_length\"]]\n",
    "y = df[\"is_spoiler\"]\n",
    "\n",
    "\n",
    "X_train, X_test, y_train, y_test = train_test_split(\n",
    "    X, y, test_size=0.2, random_state=42, stratify=y\n",
    ")\n",
    "\n",
    "X_train_text = X_train[\"full_text\"]\n",
    "X_test_text = X_test[\"full_text\"]\n",
    "y_test = y_test.astype(str)"
   ]
  },
  {
   "cell_type": "markdown",
   "id": "1b77571d",
   "metadata": {},
   "source": [
    "## Vectorizing the `full_text` column"
   ]
  },
  {
   "cell_type": "code",
   "execution_count": 7,
   "id": "006194dc",
   "metadata": {},
   "outputs": [],
   "source": [
    "# hash_vect = HashingVectorizer(n_features=50000, ngram_range=(1,2), alternate_sign=False)\n",
    "# X_train_hash = hash_vect.transform(X_train_text)\n",
    "# X_test_hash = hash_vect.transform(X_test_text)\n",
    "\n",
    "tfidf_full = TfidfVectorizer(\n",
    "    max_features=40000,\n",
    "    ngram_range=(1,2),\n",
    "    min_df=3,\n",
    "    max_df=0.8,\n",
    "    sublinear_tf=True,\n",
    "    stop_words='english'\n",
    ")\n",
    "\n",
    "X_train_tfidf = tfidf_full.fit_transform(X_train_text)\n",
    "X_test_tfidf = tfidf_full.transform(X_test_text)"
   ]
  },
  {
   "cell_type": "code",
   "execution_count": 8,
   "id": "2bff4e50",
   "metadata": {},
   "outputs": [],
   "source": [
    "keywords = [\"plot twist\", \"ending\", \"spoiler\", \"dies\", \"surprise\", \"reveal\", \"betrayal\", \"twist\", \"revealed\", \"kill\", \"death\", \"betrays\"]\n",
    "tfidf_kw = TfidfVectorizer(vocabulary=keywords)\n",
    "X_train_kw = tfidf_kw.fit_transform(X_train_text)\n",
    "X_test_kw = tfidf_kw.transform(X_test_text)"
   ]
  },
  {
   "cell_type": "markdown",
   "id": "143c2607",
   "metadata": {},
   "source": [
    "## Putting everything together"
   ]
  },
  {
   "cell_type": "code",
   "execution_count": 9,
   "id": "0f2f98d7",
   "metadata": {},
   "outputs": [],
   "source": [
    "X_train_numeric = X_train[[\"word_count\", \"has_spoiler_tag\", \"sentence_count\", \"avg_sentence_length\"]].copy()\n",
    "\n",
    "X_train_numeric[\"has_spoiler_tag\"] = X_train_numeric[\"has_spoiler_tag\"].astype(int)\n",
    "\n",
    "X_test_numeric = X_test[[\"word_count\", \"has_spoiler_tag\", \"sentence_count\", \"avg_sentence_length\"]].copy()\n",
    "X_test_numeric[\"has_spoiler_tag\"] = X_test_numeric[\"has_spoiler_tag\"].astype(int)\n",
    "\n",
    "X_train_combined = hstack([\n",
    "    # X_train_hash,\n",
    "    X_train_tfidf,\n",
    "    X_train_kw,\n",
    "    csr_matrix(X_train_numeric.values)\n",
    "])\n",
    "\n",
    "X_test_combined = hstack([\n",
    "    # X_test_hash,\n",
    "    X_test_tfidf,\n",
    "    X_test_kw,\n",
    "    csr_matrix(X_test_numeric.values)\n",
    "])"
   ]
  },
  {
   "cell_type": "markdown",
   "id": "3d327879",
   "metadata": {},
   "source": [
    "# Training with Naive Bayes"
   ]
  },
  {
   "cell_type": "code",
   "execution_count": 10,
   "id": "1a0682c8",
   "metadata": {},
   "outputs": [
    {
     "name": "stdout",
     "output_type": "stream",
     "text": [
      "{'alpha': 1.0}\n"
     ]
    }
   ],
   "source": [
    "from sklearn.model_selection import GridSearchCV\n",
    "from sklearn.naive_bayes import MultinomialNB\n",
    "\n",
    "param_grid = {'alpha': [0.01, 0.1, 0.5, 1.0, 2.0, 5.0]}\n",
    "grid = GridSearchCV(MultinomialNB(), param_grid, cv=5, scoring='f1')\n",
    "grid.fit(X_train_combined, y_train)\n",
    "print(grid.best_params_)"
   ]
  },
  {
   "cell_type": "code",
   "execution_count": 11,
   "id": "4dd15ad7",
   "metadata": {},
   "outputs": [],
   "source": [
    "nb = MultinomialNB(alpha=grid.best_params_['alpha'])\n",
    "nb.fit(X_train_combined, y_train)\n",
    "nb_probs = nb.predict_proba(X_test_combined)[:, 1]"
   ]
  },
  {
   "cell_type": "code",
   "execution_count": 12,
   "id": "798c8bf0",
   "metadata": {},
   "outputs": [
    {
     "name": "stdout",
     "output_type": "stream",
     "text": [
      "Best Threshold: 0.20\n",
      "Best F1-Score: 0.5349\n"
     ]
    }
   ],
   "source": [
    "thresholds = np.arange(0.0, 1.01, 0.01)\n",
    "f1_scores = []\n",
    "\n",
    "for t in thresholds:\n",
    "    y_pred = (nb_probs >= t).astype(int)\n",
    "    _, _, f1, _ = precision_recall_fscore_support(y_test.map({'False':0,'True':1}), y_pred, average='binary', zero_division=np.nan)\n",
    "    f1_scores.append(f1)\n",
    "\n",
    "best_threshold = thresholds[np.argmax(f1_scores)]\n",
    "best_f1 = np.max(f1_scores)\n",
    "\n",
    "print(f\"Best Threshold: {best_threshold:.2f}\")\n",
    "print(f\"Best F1-Score: {best_f1:.4f}\")"
   ]
  },
  {
   "cell_type": "code",
   "execution_count": 13,
   "id": "988e249c",
   "metadata": {},
   "outputs": [
    {
     "name": "stdout",
     "output_type": "stream",
     "text": [
      "              precision    recall  f1-score   support\n",
      "\n",
      "       False       0.86      0.70      0.77     84598\n",
      "        True       0.44      0.68      0.53     30185\n",
      "\n",
      "    accuracy                           0.69    114783\n",
      "   macro avg       0.65      0.69      0.65    114783\n",
      "weighted avg       0.75      0.69      0.71    114783\n",
      "\n",
      "[[58804 25794]\n",
      " [ 9745 20440]]\n"
     ]
    }
   ],
   "source": [
    "y_pred = np.where(nb_probs > best_threshold, 'True', 'False')\n",
    "print(classification_report(y_test, y_pred))\n",
    "print(confusion_matrix(y_test, y_pred))"
   ]
  },
  {
   "cell_type": "markdown",
   "id": "33c328e4",
   "metadata": {},
   "source": [
    "## Training with Logistic Regression"
   ]
  },
  {
   "cell_type": "code",
   "execution_count": 14,
   "id": "f55f691d",
   "metadata": {},
   "outputs": [
    {
     "name": "stderr",
     "output_type": "stream",
     "text": [
      "/home/rickin/.conda/envs/pp/lib/python3.13/site-packages/sklearn/linear_model/_sag.py:348: ConvergenceWarning: The max_iter was reached which means the coef_ did not converge\n",
      "  warnings.warn(\n"
     ]
    }
   ],
   "source": [
    "lr = LogisticRegression(\n",
    "    max_iter=1000,\n",
    "    class_weight='balanced',\n",
    "    solver='saga',\n",
    "    n_jobs=-1\n",
    ")\n",
    "lr.fit(X_train_combined, y_train)\n",
    "lr_probs = lr.predict_proba(X_test_combined)[:, 1]"
   ]
  },
  {
   "cell_type": "code",
   "execution_count": 15,
   "id": "643ad9bf",
   "metadata": {},
   "outputs": [
    {
     "name": "stdout",
     "output_type": "stream",
     "text": [
      "Best Threshold: 0.42\n",
      "Best F1-Score: 0.5002\n"
     ]
    }
   ],
   "source": [
    "thresholds = np.arange(0.0, 1.01, 0.01)\n",
    "f1_scores = []\n",
    "\n",
    "for t in thresholds:\n",
    "    y_pred = (lr_probs >= t).astype(int)\n",
    "    _, _, f1, _ = precision_recall_fscore_support(y_test.map({'False':0,'True':1}), y_pred, average='binary', zero_division=np.nan)\n",
    "    f1_scores.append(f1)\n",
    "\n",
    "best_threshold = thresholds[np.argmax(f1_scores)]\n",
    "best_f1 = np.max(f1_scores)\n",
    "\n",
    "print(f\"Best Threshold: {best_threshold:.2f}\")\n",
    "print(f\"Best F1-Score: {best_f1:.4f}\")"
   ]
  },
  {
   "cell_type": "code",
   "execution_count": 16,
   "id": "26be6ea2",
   "metadata": {},
   "outputs": [
    {
     "name": "stdout",
     "output_type": "stream",
     "text": [
      "              precision    recall  f1-score   support\n",
      "\n",
      "       False       0.85      0.63      0.72     84598\n",
      "        True       0.40      0.68      0.50     30185\n",
      "\n",
      "    accuracy                           0.64    114783\n",
      "   macro avg       0.62      0.65      0.61    114783\n",
      "weighted avg       0.73      0.64      0.66    114783\n",
      "\n",
      "[[53416 31182]\n",
      " [ 9718 20467]]\n"
     ]
    }
   ],
   "source": [
    "y_pred = np.where(lr_probs > best_threshold, 'True', 'False')\n",
    "print(classification_report(y_test, y_pred))\n",
    "print(confusion_matrix(y_test, y_pred))"
   ]
  },
  {
   "cell_type": "code",
   "execution_count": null,
   "id": "b808028e",
   "metadata": {},
   "outputs": [],
   "source": []
  }
 ],
 "metadata": {
  "kernelspec": {
   "display_name": "pp",
   "language": "python",
   "name": "python3"
  },
  "language_info": {
   "codemirror_mode": {
    "name": "ipython",
    "version": 3
   },
   "file_extension": ".py",
   "mimetype": "text/x-python",
   "name": "python",
   "nbconvert_exporter": "python",
   "pygments_lexer": "ipython3",
   "version": "3.13.7"
  }
 },
 "nbformat": 4,
 "nbformat_minor": 5
}
